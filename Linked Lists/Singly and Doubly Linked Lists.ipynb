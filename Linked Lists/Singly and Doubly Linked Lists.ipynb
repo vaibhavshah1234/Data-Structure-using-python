{
 "cells": [
  {
   "cell_type": "markdown",
   "metadata": {},
   "source": [
    "# Singly Linked Lists <br>\n",
    "A singly linked list is a collection of nodes that collectively form a linear sequence. Each node stores a reference to an object that is an element of the sequence, as well as a reference to the next node of the list. The first node is termed as the **head (or root)** and the second node is termed as the **tail**. The tail node points to **None**. <br>\n",
    "### **Traversing:**\n",
    "Traversing means visiting each node of the list once to perform some operation on the linked list. Singly linked lists can be traversed only in forward direction starting from the first data element. <br> Since the next reference of a node can be viewed as a link or pointer to another node, the process of traversing can also be called as **link hopping** or **pointer hopping**.\n",
    "\n",
    "### Inserting an element at the head of a singly linked list:\n",
    "1. Create a new node\n",
    "2. Set its element to the new element\n",
    "3. Set its next link to refer to the current head\n",
    "4. Set its list's head to point to the new node\n",
    "\n",
    "### Inserting an element at the tail of a singly linked list:\n",
    "1. Create a new node\n",
    "2. Assign its next reference to **None**\n",
    "3. Set the nect reference of the tail to point to the new node\n",
    "4. Update the tail reference itself to this new node\n",
    "<br>\n",
    "\n",
    "\n",
    "Removing an element from the head of a singly linked list is same as the reverse operation of inserting a new element at the end.\n",
    "\n",
    "### Pros:\n",
    "1. It has constant-time insertions and deletions in any position. In contrast, arrays require O(n) times to do the same thing.\n",
    "2. A linked list can continue to exoand without having to specify their size ahead of time.\n",
    "\n",
    "### Cons:\n",
    "1. To access an element in a linked list, you need to take O(k) time to go from the head of the list to the kth element. In contrast, arrays have constant time operations to access elements."
   ]
  },
  {
   "cell_type": "markdown",
   "metadata": {},
   "source": [
    "## Singly Linked List Implementation"
   ]
  },
  {
   "cell_type": "code",
   "execution_count": 1,
   "metadata": {},
   "outputs": [],
   "source": [
    "class Node(object): # creating the class Node\n",
    "    \n",
    "    def __init__(self, value):\n",
    "        \n",
    "        self.value = value\n",
    "        self.nextnode = None"
   ]
  },
  {
   "cell_type": "code",
   "execution_count": 2,
   "metadata": {},
   "outputs": [],
   "source": [
    "a = Node(1)\n",
    "b = Node(2)\n",
    "c = Node(3)\n",
    "# assigning values to each node. here we have three nodes."
   ]
  },
  {
   "cell_type": "code",
   "execution_count": 3,
   "metadata": {},
   "outputs": [],
   "source": [
    "a.nextnode = b \n",
    "b.nextnode = c\n",
    "# this links a to b, and b to c"
   ]
  },
  {
   "cell_type": "code",
   "execution_count": 5,
   "metadata": {},
   "outputs": [
    {
     "name": "stdout",
     "output_type": "stream",
     "text": [
      "a = 1\n",
      "b = 2\n",
      "c = 3\n"
     ]
    }
   ],
   "source": [
    "print(\"a =\", a.value)\n",
    "print(\"b =\", b.value)\n",
    "print(\"c =\", c.value)"
   ]
  },
  {
   "cell_type": "code",
   "execution_count": 6,
   "metadata": {},
   "outputs": [
    {
     "data": {
      "text/plain": [
       "<__main__.Node at 0x1e15469f348>"
      ]
     },
     "execution_count": 6,
     "metadata": {},
     "output_type": "execute_result"
    }
   ],
   "source": [
    "a.nextnode # object class"
   ]
  },
  {
   "cell_type": "code",
   "execution_count": 7,
   "metadata": {},
   "outputs": [
    {
     "data": {
      "text/plain": [
       "2"
      ]
     },
     "execution_count": 7,
     "metadata": {},
     "output_type": "execute_result"
    }
   ],
   "source": [
    "a.nextnode.value # the value of b (a is linked/pointed to b)"
   ]
  },
  {
   "cell_type": "markdown",
   "metadata": {},
   "source": [
    "# Doubly Linked Lists\n",
    "\n",
    "In a doubly linked list, we define a linked list in which each node keeps a **reference to the node before it and the node after it**. These lists allow constant-time (O(1)) update operations including insertions and deletions.\n",
    "\n",
    "There is a:\n",
    "1. **Header** node at the beginning of the list and \n",
    "2. **Trailer** node at the end of the list.\n",
    "3. These dummy nodes are called **sentinels** or **guards**\n",
    "\n",
    "### Insertion:\n",
    "1. Every insertion into a doubly linked list will take place between a pair of existing nodes. When a new element is inserted at the front of the sequence, the new node is added between the header and the node that is currently after the header.\n",
    "\n",
    "### Deletion:\n",
    "1. The two neighbors of the node to be deleted are linked directly to each other.\n",
    "2. As a result, that node will no longer be considered a part of the list and it can be reclaimed by the system.\n",
    "3. Because of sentinels, the same implementation can be used when deleting the first or last element of a sequence."
   ]
  },
  {
   "cell_type": "code",
   "execution_count": 9,
   "metadata": {},
   "outputs": [],
   "source": [
    "class Node(object): # creating Node class\n",
    "    \n",
    "    def __init__(self, value):\n",
    "        self.value = value\n",
    "        self.nextnode = None \n",
    "        self.prevnode = None\n",
    "        # since this is a doubly linked list, there are 'next' and 'prev' references to a node"
   ]
  },
  {
   "cell_type": "code",
   "execution_count": 10,
   "metadata": {},
   "outputs": [],
   "source": [
    "a = Node(100)\n",
    "b = Node(200)\n",
    "c = Node(300)"
   ]
  },
  {
   "cell_type": "code",
   "execution_count": 11,
   "metadata": {},
   "outputs": [],
   "source": [
    "a.nextnode = b\n",
    "b.prevnode = a\n",
    "# two references for a single node"
   ]
  },
  {
   "cell_type": "code",
   "execution_count": 12,
   "metadata": {},
   "outputs": [],
   "source": [
    "b.nextnode = c\n",
    "c.prevnode = b"
   ]
  },
  {
   "cell_type": "code",
   "execution_count": 13,
   "metadata": {},
   "outputs": [],
   "source": [
    "# to create a circular doubly linked list\n",
    "c.nextnode = a\n",
    "a.prevnode = c"
   ]
  }
 ],
 "metadata": {
  "kernelspec": {
   "display_name": "Python 3",
   "language": "python",
   "name": "python3"
  },
  "language_info": {
   "codemirror_mode": {
    "name": "ipython",
    "version": 3
   },
   "file_extension": ".py",
   "mimetype": "text/x-python",
   "name": "python",
   "nbconvert_exporter": "python",
   "pygments_lexer": "ipython3",
   "version": "3.7.7"
  }
 },
 "nbformat": 4,
 "nbformat_minor": 4
}
