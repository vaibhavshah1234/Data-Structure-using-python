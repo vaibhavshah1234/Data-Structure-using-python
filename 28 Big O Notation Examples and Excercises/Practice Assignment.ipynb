{
 "cells": [
  {
   "cell_type": "markdown",
   "metadata": {},
   "source": [
    "**1. Program to print \"Hello World!\"**"
   ]
  },
  {
   "cell_type": "code",
   "execution_count": 1,
   "metadata": {},
   "outputs": [
    {
     "name": "stdout",
     "output_type": "stream",
     "text": [
      "Hello World!\n"
     ]
    }
   ],
   "source": [
    "print(\"Hello World!\")"
   ]
  },
  {
   "cell_type": "markdown",
   "metadata": {},
   "source": [
    "**2. Compute arithmetic operations.**"
   ]
  },
  {
   "cell_type": "code",
   "execution_count": 2,
   "metadata": {},
   "outputs": [
    {
     "name": "stdout",
     "output_type": "stream",
     "text": [
      "Enter the value of a: 22\n",
      "Enter the value of b: 56\n",
      "Sum: 78\n",
      "Difference: -34\n",
      "Product: 1232\n",
      "Quotient with decimals: 0.39285714285714285\n",
      "Remainder: 22\n"
     ]
    }
   ],
   "source": [
    "a = int(input(\"Enter the value of a: \"))\n",
    "b = int(input(\"Enter the value of b: \"))\n",
    "\n",
    "def arithmetic(a, b):\n",
    "    print(\"Sum:\", a + b)\n",
    "    print(\"Difference:\", a - b)\n",
    "    print(\"Product:\", a * b)\n",
    "    print(\"Quotient with decimals:\", a / b)\n",
    "    print(\"Remainder:\", a % b)\n",
    "\n",
    "arithmetic(a, b)"
   ]
  },
  {
   "cell_type": "markdown",
   "metadata": {},
   "source": [
    "**3. Demonstrate relational operators.**"
   ]
  },
  {
   "cell_type": "code",
   "execution_count": 4,
   "metadata": {},
   "outputs": [
    {
     "name": "stdout",
     "output_type": "stream",
     "text": [
      "Enter the value of a: 122\n",
      "Enter the value of b: 34\n",
      "a is greater than b.\n",
      "After a = b, the value of a is 34 and the value of b is 34 .\n"
     ]
    }
   ],
   "source": [
    "a = int(input(\"Enter the value of a: \"))\n",
    "b = int(input(\"Enter the value of b: \"))\n",
    "\n",
    "def relational(a, b):\n",
    "    \n",
    "    if (a > b):\n",
    "        print(\"a is greater than b.\")\n",
    "    elif (a < b):\n",
    "        print(\"a is less than b.\")\n",
    "    elif (a == b):\n",
    "        (\"a and b are equal.\")\n",
    "    elif (a != b):\n",
    "        (\"a is not equal to b.\")\n",
    "    a = b\n",
    "    print(\"After a = b, the value of a is\", a, \"and the value of b is\", b,\".\")\n",
    "\n",
    "relational(a, b)"
   ]
  },
  {
   "cell_type": "markdown",
   "metadata": {},
   "source": [
    "**4. Demonstrate logical operators.**"
   ]
  },
  {
   "cell_type": "code",
   "execution_count": 5,
   "metadata": {},
   "outputs": [
    {
     "name": "stdout",
     "output_type": "stream",
     "text": [
      "Enter the value of a: 45\n",
      "Enter the value of b: 32\n",
      "False\n",
      "True\n",
      "False\n",
      "False\n"
     ]
    }
   ],
   "source": [
    "a = int(input(\"Enter the value of a: \"))\n",
    "b = int(input(\"Enter the value of b: \"))\n",
    "\n",
    "def logical(a, b):\n",
    "    \n",
    "    print(a > 0 and b < 0)\n",
    "    print(a > 0 or b < 0)\n",
    "    print(not a)\n",
    "    print(not b)\n",
    "\n",
    "logical(a, b)"
   ]
  },
  {
   "cell_type": "markdown",
   "metadata": {},
   "source": [
    "**5. Demonstrate short-hand assignments.**"
   ]
  },
  {
   "cell_type": "code",
   "execution_count": 6,
   "metadata": {},
   "outputs": [
    {
     "name": "stdout",
     "output_type": "stream",
     "text": [
      "Enter the value of a: 22\n",
      "Enter the value of b: 9\n",
      "a = 24\n",
      "b = 5\n",
      "a = 72\n",
      "b = 2.5\n",
      "a = 0\n",
      "After a = b, the value of a is 0 and the value of b is 0 .\n"
     ]
    }
   ],
   "source": [
    "a = int(input(\"Enter the value of a: \"))\n",
    "b = int(input(\"Enter the value of b: \"))\n",
    "\n",
    "def assignments(a, b):\n",
    "    a += 2\n",
    "    print(\"a =\", a)\n",
    "    \n",
    "    b -= 4\n",
    "    print(\"b =\", b)\n",
    "    \n",
    "    a *= 3\n",
    "    print(\"a =\", a)\n",
    "    \n",
    "    b /= 2\n",
    "    print(\"b =\", b)\n",
    "    \n",
    "    a %= 6\n",
    "    print(\"a =\", a)\n",
    "    \n",
    "    b = a\n",
    "    print(\"After a = b, the value of a is\", a, \"and the value of b is\", b,\".\")\n",
    "    \n",
    "assignments(a, b)"
   ]
  },
  {
   "cell_type": "markdown",
   "metadata": {},
   "source": [
    "**6. Demonstrate increment and decrement operators.**"
   ]
  },
  {
   "cell_type": "code",
   "execution_count": 9,
   "metadata": {},
   "outputs": [
    {
     "name": "stdout",
     "output_type": "stream",
     "text": [
      "n = 1\n",
      "n = 2\n",
      "n = 3\n",
      "n = 4\n",
      "n = 5\n",
      "n = 6\n",
      "n = 7\n",
      "n = 8\n",
      "n = 9\n",
      "n = 10\n"
     ]
    }
   ],
   "source": [
    "for n in range(1, 11):\n",
    "    print(\"n =\", n)\n",
    "    \n",
    "    n += 1"
   ]
  },
  {
   "cell_type": "markdown",
   "metadata": {},
   "source": [
    "**7. Greatest of two numbers using conditional operator.**"
   ]
  },
  {
   "cell_type": "code",
   "execution_count": 15,
   "metadata": {},
   "outputs": [
    {
     "name": "stdout",
     "output_type": "stream",
     "text": [
      "Enter the value of a: 3\n",
      "Enter the value of b: 5\n",
      "5\n"
     ]
    }
   ],
   "source": [
    "a = int(input(\"Enter the value of a: \"))\n",
    "b = int(input(\"Enter the value of b: \"))\n",
    "\n",
    "max = a if a > b else b\n",
    "\n",
    "print(max)"
   ]
  }
 ],
 "metadata": {
  "kernelspec": {
   "display_name": "Python 3",
   "language": "python",
   "name": "python3"
  },
  "language_info": {
   "codemirror_mode": {
    "name": "ipython",
    "version": 3
   },
   "file_extension": ".py",
   "mimetype": "text/x-python",
   "name": "python",
   "nbconvert_exporter": "python",
   "pygments_lexer": "ipython3",
   "version": "3.7.7"
  }
 },
 "nbformat": 4,
 "nbformat_minor": 4
}
